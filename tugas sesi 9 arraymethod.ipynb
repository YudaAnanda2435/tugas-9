{
 "cells": [
  {
   "cell_type": "code",
   "execution_count": 16,
   "id": "dae272bb",
   "metadata": {},
   "outputs": [
    {
     "name": "stdout",
     "output_type": "stream",
     "text": [
      "['Honda', 'Yamaha', 'Suzuki']\n"
     ]
    }
   ],
   "source": [
    "mesin = [\"Honda\", \"Yamaha\", \"Suzuki\"]\n",
    "mesin_saya = mesin.copy()\n",
    "print(mesin)"
   ]
  },
  {
   "cell_type": "code",
   "execution_count": 21,
   "id": "e4343c4f",
   "metadata": {},
   "outputs": [
    {
     "name": "stdout",
     "output_type": "stream",
     "text": [
      "1\n"
     ]
    }
   ],
   "source": [
    "motor = [\"Vario\", \"Aerox\", \"Satria FU\"]\n",
    "x = motor.count(\"Vario\") \n",
    "print (x)"
   ]
  },
  {
   "cell_type": "code",
   "execution_count": 22,
   "id": "28654031",
   "metadata": {},
   "outputs": [
    {
     "name": "stdout",
     "output_type": "stream",
     "text": [
      "['Honda', 'Yamaha', ' Suzuki', 'Vario', 'Aerox', 'Satria FU']\n"
     ]
    }
   ],
   "source": [
    "mesin = [\"Honda\", \"Yamaha\", \" Suzuki\"]\n",
    "motor  = [\"Vario\", \"Aerox\", \"Satria FU\"]\n",
    "mesin.extend(motor)\n",
    "print(mesin)"
   ]
  }
 ],
 "metadata": {
  "kernelspec": {
   "display_name": "Python 3 (ipykernel)",
   "language": "python",
   "name": "python3"
  },
  "language_info": {
   "codemirror_mode": {
    "name": "ipython",
    "version": 3
   },
   "file_extension": ".py",
   "mimetype": "text/x-python",
   "name": "python",
   "nbconvert_exporter": "python",
   "pygments_lexer": "ipython3",
   "version": "3.9.12"
  }
 },
 "nbformat": 4,
 "nbformat_minor": 5
}
